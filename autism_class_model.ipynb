{
  "nbformat": 4,
  "nbformat_minor": 0,
  "metadata": {
    "colab": {
      "provenance": []
    },
    "kernelspec": {
      "name": "python3",
      "display_name": "Python 3"
    },
    "language_info": {
      "name": "python"
    }
  },
  "cells": [
    {
      "cell_type": "code",
      "source": [
        "pip install opencv-python"
      ],
      "metadata": {
        "colab": {
          "base_uri": "https://localhost:8080/"
        },
        "id": "16Ar42k1qds2",
        "outputId": "93672f51-9d3c-4dc3-a271-e536f81ccd4f"
      },
      "execution_count": null,
      "outputs": [
        {
          "output_type": "stream",
          "name": "stdout",
          "text": [
            "Requirement already satisfied: opencv-python in /usr/local/lib/python3.11/dist-packages (4.11.0.86)\n",
            "Requirement already satisfied: numpy>=1.21.2 in /usr/local/lib/python3.11/dist-packages (from opencv-python) (2.0.2)\n"
          ]
        }
      ]
    },
    {
      "cell_type": "code",
      "source": [
        "pip install --upgrade opencv-python"
      ],
      "metadata": {
        "colab": {
          "base_uri": "https://localhost:8080/"
        },
        "id": "KVZVxG3mIkVx",
        "outputId": "1cdc9bf3-0ded-4eca-cb68-05aa02b1589a"
      },
      "execution_count": null,
      "outputs": [
        {
          "output_type": "stream",
          "name": "stdout",
          "text": [
            "Requirement already satisfied: opencv-python in /usr/local/lib/python3.10/dist-packages (4.10.0.84)\n",
            "Requirement already satisfied: numpy>=1.21.2 in /usr/local/lib/python3.10/dist-packages (from opencv-python) (1.25.2)\n"
          ]
        }
      ]
    },
    {
      "cell_type": "code",
      "execution_count": null,
      "metadata": {
        "id": "ak8EGzQANyoE"
      },
      "outputs": [],
      "source": [
        "import numpy as np\n",
        "import matplotlib.pyplot as plt\n",
        "import pandas as pd\n",
        "import cv2\n",
        "import os\n",
        "import PIL\n",
        "import tensorflow as tf\n",
        "from tensorflow import keras\n",
        "from tensorflow.keras import layers\n",
        "import albumentations as A\n",
        "import os\n"
      ]
    },
    {
      "cell_type": "code",
      "source": [
        "pip install pillow"
      ],
      "metadata": {
        "colab": {
          "base_uri": "https://localhost:8080/"
        },
        "id": "SON5EQuWUSlk",
        "outputId": "9a0c7095-b7e7-4abd-fffd-015540eb261e"
      },
      "execution_count": null,
      "outputs": [
        {
          "output_type": "stream",
          "name": "stdout",
          "text": [
            "Requirement already satisfied: pillow in /usr/local/lib/python3.11/dist-packages (11.2.1)\n"
          ]
        }
      ]
    },
    {
      "cell_type": "code",
      "source": [
        "import os\n",
        "print(os.getcwd())"
      ],
      "metadata": {
        "colab": {
          "base_uri": "https://localhost:8080/"
        },
        "id": "VvO4-pT2iRCF",
        "outputId": "3b75e95b-9988-4936-9ce7-5140ece93777"
      },
      "execution_count": null,
      "outputs": [
        {
          "output_type": "stream",
          "name": "stdout",
          "text": [
            "/content\n"
          ]
        }
      ]
    },
    {
      "cell_type": "code",
      "source": [
        "import os\n",
        "data_path = '/content/drive/MyDrive/RNN_complex_check'\n",
        "data_dir = os.listdir(data_path)\n",
        "data_dir"
      ],
      "metadata": {
        "colab": {
          "base_uri": "https://localhost:8080/"
        },
        "id": "jcSE_TiYOa9k",
        "outputId": "41f78df2-2ee1-42c7-fb5f-bd55c2eda602"
      },
      "execution_count": null,
      "outputs": [
        {
          "output_type": "execute_result",
          "data": {
            "text/plain": [
              "['.ipynb_checkpoints',\n",
              " 'csv_file.py',\n",
              " 'data_path.py',\n",
              " 'label_display.py',\n",
              " 'checkpoint',\n",
              " 'data_process.py',\n",
              " 'extraction.py',\n",
              " 'frame_size.py',\n",
              " 'Rnn_sequence_model.py',\n",
              " 'inference.py',\n",
              " 'test',\n",
              " 'animated.gif',\n",
              " 'train',\n",
              " 'real_test.csv',\n",
              " 'real_train.csv',\n",
              " 'ckpt.weights.h5',\n",
              " 'main.py']"
            ]
          },
          "metadata": {},
          "execution_count": 5
        }
      ]
    },
    {
      "cell_type": "code",
      "source": [
        "import pathlib\n",
        "data_dir = pathlib.Path(data_path)\n",
        "data_dir"
      ],
      "metadata": {
        "colab": {
          "base_uri": "https://localhost:8080/"
        },
        "id": "XgPe4LKhSWbO",
        "outputId": "7324498d-4b98-4058-d855-d63c4fa3a154"
      },
      "execution_count": null,
      "outputs": [
        {
          "output_type": "execute_result",
          "data": {
            "text/plain": [
              "PosixPath('/content/drive/MyDrive/RNN_complex_check')"
            ]
          },
          "metadata": {},
          "execution_count": 6
        }
      ]
    },
    {
      "cell_type": "code",
      "source": [
        "video_count = len(list (data_dir.glob('*/*.avi')))\n",
        "video_count"
      ],
      "metadata": {
        "colab": {
          "base_uri": "https://localhost:8080/"
        },
        "id": "4bRBtCA_Sl1O",
        "outputId": "5b9be211-5d42-4e1a-9842-f9df92630b2a"
      },
      "execution_count": null,
      "outputs": [
        {
          "output_type": "execute_result",
          "data": {
            "text/plain": [
              "100"
            ]
          },
          "metadata": {},
          "execution_count": 7
        }
      ]
    },
    {
      "cell_type": "code",
      "source": [
        "train = list(data_dir.glob('train/*'))\n",
        "train[0]"
      ],
      "metadata": {
        "colab": {
          "base_uri": "https://localhost:8080/"
        },
        "id": "CR9LTxf2DGg3",
        "outputId": "84786824-f551-4788-e8b8-21fd4008ab9f"
      },
      "execution_count": null,
      "outputs": [
        {
          "output_type": "execute_result",
          "data": {
            "text/plain": [
              "PosixPath('/content/drive/MyDrive/RNN_complex_check/train/v_Sad_g03_c14.avi')"
            ]
          },
          "metadata": {},
          "execution_count": 8
        }
      ]
    },
    {
      "cell_type": "code",
      "source": [
        "from google.colab import drive\n",
        "drive.mount('/content/drive')"
      ],
      "metadata": {
        "id": "Za6VD5ETjEN8",
        "colab": {
          "base_uri": "https://localhost:8080/"
        },
        "outputId": "74c57772-dad1-405c-f7f7-eb6e7b85b39d"
      },
      "execution_count": null,
      "outputs": [
        {
          "output_type": "stream",
          "name": "stdout",
          "text": [
            "Drive already mounted at /content/drive; to attempt to forcibly remount, call drive.mount(\"/content/drive\", force_remount=True).\n"
          ]
        }
      ]
    },
    {
      "cell_type": "code",
      "source": [
        "test = list(data_dir.glob('test/*'))\n",
        "test[0]"
      ],
      "metadata": {
        "colab": {
          "base_uri": "https://localhost:8080/"
        },
        "id": "YKFqUDqjTgGr",
        "outputId": "905aad66-1421-4b22-9639-cf37524e07ad"
      },
      "execution_count": null,
      "outputs": [
        {
          "output_type": "execute_result",
          "data": {
            "text/plain": [
              "PosixPath('/content/drive/MyDrive/RNN_complex_check/test/v_Surprise_g07_c02.avi')"
            ]
          },
          "metadata": {},
          "execution_count": 10
        }
      ]
    },
    {
      "cell_type": "code",
      "source": [
        "import albumentations\n",
        "import cv2\n",
        "\n",
        "albumentations.__version__\n",
        "\n",
        "test = list(data_dir.glob('test/*'))\n",
        "cv2.imread(str(test[0]))\n",
        "print(test)"
      ],
      "metadata": {
        "id": "_RO-jkrIVpsb",
        "colab": {
          "base_uri": "https://localhost:8080/"
        },
        "outputId": "ad8a6d11-5c4e-43bb-b44f-04a26d806cfc"
      },
      "execution_count": null,
      "outputs": [
        {
          "output_type": "stream",
          "name": "stdout",
          "text": [
            "[PosixPath('/content/drive/MyDrive/RNN_complex_check/test/v_Surprise_g07_c02.avi'), PosixPath('/content/drive/MyDrive/RNN_complex_check/test/v_Sad_g03_c16.avi'), PosixPath('/content/drive/MyDrive/RNN_complex_check/test/v_Sad_g03_c15.avi'), PosixPath('/content/drive/MyDrive/RNN_complex_check/test/v_Sad_g03_c09.avi'), PosixPath('/content/drive/MyDrive/RNN_complex_check/test/v_Sad_g03_c08.avi'), PosixPath('/content/drive/MyDrive/RNN_complex_check/test/v_Sad_g03_c02.avi'), PosixPath('/content/drive/MyDrive/RNN_complex_check/test/v_Neutral_g01_c31.avi'), PosixPath('/content/drive/MyDrive/RNN_complex_check/test/v_Neutral_g01_c30.avi'), PosixPath('/content/drive/MyDrive/RNN_complex_check/test/v_Neutral_g01_c29.avi'), PosixPath('/content/drive/MyDrive/RNN_complex_check/test/v_Neutral_g01_c28.avi'), PosixPath('/content/drive/MyDrive/RNN_complex_check/test/v_Neutral_g01_c27.avi'), PosixPath('/content/drive/MyDrive/RNN_complex_check/test/v_Neutral_g01_c21.avi'), PosixPath('/content/drive/MyDrive/RNN_complex_check/test/v_Neutral_g01_c14.avi'), PosixPath('/content/drive/MyDrive/RNN_complex_check/test/v_Neutral_g01_c07.avi'), PosixPath('/content/drive/MyDrive/RNN_complex_check/test/v_Neutral_g01_c06.avi'), PosixPath('/content/drive/MyDrive/RNN_complex_check/test/v_Happy_g05_c28.avi'), PosixPath('/content/drive/MyDrive/RNN_complex_check/test/v_Happy_g05_c27.avi'), PosixPath('/content/drive/MyDrive/RNN_complex_check/test/v_Happy_g05_c21.avi'), PosixPath('/content/drive/MyDrive/RNN_complex_check/test/v_Happy_g05_c20.avi'), PosixPath('/content/drive/MyDrive/RNN_complex_check/test/v_Happy_g05_c14.avi'), PosixPath('/content/drive/MyDrive/RNN_complex_check/test/v_Happy_g05_c13.avi'), PosixPath('/content/drive/MyDrive/RNN_complex_check/test/v_Happy_g05_c07.avi'), PosixPath('/content/drive/MyDrive/RNN_complex_check/test/v_Happy_g05_c06.avi'), PosixPath('/content/drive/MyDrive/RNN_complex_check/test/v_Fear_g04_c08.avi'), PosixPath('/content/drive/MyDrive/RNN_complex_check/test/v_Fear_g04_c06.avi'), PosixPath('/content/drive/MyDrive/RNN_complex_check/test/v_Disgust_g02_c07.avi'), PosixPath('/content/drive/MyDrive/RNN_complex_check/test/v_Disgust_g02_c06.avi'), PosixPath('/content/drive/MyDrive/RNN_complex_check/test/v_Anger_g08_c07.avi'), PosixPath('/content/drive/MyDrive/RNN_complex_check/test/v_Anger_g08_c06.avi'), PosixPath('/content/drive/MyDrive/RNN_complex_check/test/v_Anger_g08_c05.avi')]\n"
          ]
        }
      ]
    },
    {
      "cell_type": "code",
      "source": [
        "import albumentations\n",
        "import cv2\n",
        "\n",
        "albumentations.__version__\n",
        "\n",
        "train = list(data_dir.glob('train/*'))\n",
        "cv2.imread(str(train[0]))\n",
        "print(train)"
      ],
      "metadata": {
        "id": "KbZaq-zTz87A",
        "colab": {
          "base_uri": "https://localhost:8080/"
        },
        "outputId": "157dcf75-6f98-4c62-d573-37a8d0c67d5c"
      },
      "execution_count": null,
      "outputs": [
        {
          "output_type": "stream",
          "name": "stdout",
          "text": [
            "[PosixPath('/content/drive/MyDrive/RNN_complex_check/train/v_Sad_g03_c14.avi'), PosixPath('/content/drive/MyDrive/RNN_complex_check/train/v_Sad_g03_c13.avi'), PosixPath('/content/drive/MyDrive/RNN_complex_check/train/v_Sad_g03_c12.avi'), PosixPath('/content/drive/MyDrive/RNN_complex_check/train/v_Sad_g03_c11.avi'), PosixPath('/content/drive/MyDrive/RNN_complex_check/train/v_Sad_g03_c10.avi'), PosixPath('/content/drive/MyDrive/RNN_complex_check/train/v_Sad_g03_c07.avi'), PosixPath('/content/drive/MyDrive/RNN_complex_check/train/v_Sad_g03_c06.avi'), PosixPath('/content/drive/MyDrive/RNN_complex_check/train/v_Sad_g03_c05.avi'), PosixPath('/content/drive/MyDrive/RNN_complex_check/train/v_Sad_g03_c04.avi'), PosixPath('/content/drive/MyDrive/RNN_complex_check/train/v_Sad_g03_c03.avi'), PosixPath('/content/drive/MyDrive/RNN_complex_check/train/v_Sad_g03_c01.avi'), PosixPath('/content/drive/MyDrive/RNN_complex_check/train/v_Neutral_g01_c26.avi'), PosixPath('/content/drive/MyDrive/RNN_complex_check/train/v_Neutral_g01_c25.avi'), PosixPath('/content/drive/MyDrive/RNN_complex_check/train/v_Neutral_g01_c24.avi'), PosixPath('/content/drive/MyDrive/RNN_complex_check/train/v_Neutral_g01_c23.avi'), PosixPath('/content/drive/MyDrive/RNN_complex_check/train/v_Neutral_g01_c22.avi'), PosixPath('/content/drive/MyDrive/RNN_complex_check/train/v_Neutral_g01_c20.avi'), PosixPath('/content/drive/MyDrive/RNN_complex_check/train/v_Neutral_g01_c19.avi'), PosixPath('/content/drive/MyDrive/RNN_complex_check/train/v_Neutral_g01_c18.avi'), PosixPath('/content/drive/MyDrive/RNN_complex_check/train/v_Neutral_g01_c17.avi'), PosixPath('/content/drive/MyDrive/RNN_complex_check/train/v_Neutral_g01_c16.avi'), PosixPath('/content/drive/MyDrive/RNN_complex_check/train/v_Neutral_g01_c15.avi'), PosixPath('/content/drive/MyDrive/RNN_complex_check/train/v_Neutral_g01_c13.avi'), PosixPath('/content/drive/MyDrive/RNN_complex_check/train/v_Neutral_g01_c12.avi'), PosixPath('/content/drive/MyDrive/RNN_complex_check/train/v_Neutral_g01_c11.avi'), PosixPath('/content/drive/MyDrive/RNN_complex_check/train/v_Neutral_g01_c10.avi'), PosixPath('/content/drive/MyDrive/RNN_complex_check/train/v_Neutral_g01_c09.avi'), PosixPath('/content/drive/MyDrive/RNN_complex_check/train/v_Neutral_g01_c08.avi'), PosixPath('/content/drive/MyDrive/RNN_complex_check/train/v_Neutral_g01_c05.avi'), PosixPath('/content/drive/MyDrive/RNN_complex_check/train/v_Neutral_g01_c04.avi'), PosixPath('/content/drive/MyDrive/RNN_complex_check/train/v_Neutral_g01_c03.avi'), PosixPath('/content/drive/MyDrive/RNN_complex_check/train/v_Neutral_g01_c02.avi'), PosixPath('/content/drive/MyDrive/RNN_complex_check/train/v_Neutral_g01_c01.avi'), PosixPath('/content/drive/MyDrive/RNN_complex_check/train/v_Happy_g05_c26.avi'), PosixPath('/content/drive/MyDrive/RNN_complex_check/train/v_Happy_g05_c25.avi'), PosixPath('/content/drive/MyDrive/RNN_complex_check/train/v_Happy_g05_c24.avi'), PosixPath('/content/drive/MyDrive/RNN_complex_check/train/v_Happy_g05_c23.avi'), PosixPath('/content/drive/MyDrive/RNN_complex_check/train/v_Happy_g05_c22.avi'), PosixPath('/content/drive/MyDrive/RNN_complex_check/train/v_Happy_g05_c19.avi'), PosixPath('/content/drive/MyDrive/RNN_complex_check/train/v_Happy_g05_c18.avi'), PosixPath('/content/drive/MyDrive/RNN_complex_check/train/v_Happy_g05_c17.avi'), PosixPath('/content/drive/MyDrive/RNN_complex_check/train/v_Happy_g05_c16.avi'), PosixPath('/content/drive/MyDrive/RNN_complex_check/train/v_Happy_g05_c15.avi'), PosixPath('/content/drive/MyDrive/RNN_complex_check/train/v_Happy_g05_c12.avi'), PosixPath('/content/drive/MyDrive/RNN_complex_check/train/v_Happy_g05_c11.avi'), PosixPath('/content/drive/MyDrive/RNN_complex_check/train/v_Happy_g05_c10.avi'), PosixPath('/content/drive/MyDrive/RNN_complex_check/train/v_Happy_g05_c09.avi'), PosixPath('/content/drive/MyDrive/RNN_complex_check/train/v_Happy_g05_c08.avi'), PosixPath('/content/drive/MyDrive/RNN_complex_check/train/v_Happy_g05_c05.avi'), PosixPath('/content/drive/MyDrive/RNN_complex_check/train/v_Happy_g05_c04.avi'), PosixPath('/content/drive/MyDrive/RNN_complex_check/train/v_Happy_g05_c03.avi'), PosixPath('/content/drive/MyDrive/RNN_complex_check/train/v_Happy_g05_c02.avi'), PosixPath('/content/drive/MyDrive/RNN_complex_check/train/v_Happy_g05_c01.avi'), PosixPath('/content/drive/MyDrive/RNN_complex_check/train/v_Fear_g04_c07.avi'), PosixPath('/content/drive/MyDrive/RNN_complex_check/train/v_Fear_g04_c05.avi'), PosixPath('/content/drive/MyDrive/RNN_complex_check/train/v_Fear_g04_c04_.avi'), PosixPath('/content/drive/MyDrive/RNN_complex_check/train/v_Fear_g04_c03.avi'), PosixPath('/content/drive/MyDrive/RNN_complex_check/train/v_Fear_g04_c02.avi'), PosixPath('/content/drive/MyDrive/RNN_complex_check/train/v_Fear_g04_c01.avi'), PosixPath('/content/drive/MyDrive/RNN_complex_check/train/v_Disgust_g02_c08.avi'), PosixPath('/content/drive/MyDrive/RNN_complex_check/train/v_Disgust_g02_c05.avi'), PosixPath('/content/drive/MyDrive/RNN_complex_check/train/v_Disgust_g02_c04.avi'), PosixPath('/content/drive/MyDrive/RNN_complex_check/train/v_Disgust_g02_c03.avi'), PosixPath('/content/drive/MyDrive/RNN_complex_check/train/v_Disgust_g02_c02.avi'), PosixPath('/content/drive/MyDrive/RNN_complex_check/train/v_Disgust_g02_c01.avi'), PosixPath('/content/drive/MyDrive/RNN_complex_check/train/v_Anger_g08_c04.avi'), PosixPath('/content/drive/MyDrive/RNN_complex_check/train/v_Anger_g08_c03.avi'), PosixPath('/content/drive/MyDrive/RNN_complex_check/train/v_Anger_g08_c02.avi'), PosixPath('/content/drive/MyDrive/RNN_complex_check/train/v_Anger_g08_c01.avi'), PosixPath('/content/drive/MyDrive/RNN_complex_check/train/v_Surprise_g07_c 01.avi')]\n"
          ]
        }
      ]
    },
    {
      "cell_type": "code",
      "source": [
        "autism_video_dict = {\n",
        "    'train': list(data_dir.glob('train/*')),\n",
        "    'test': list(data_dir.glob('test/*'))\n",
        "}\n",
        "print(autism_video_dict)"
      ],
      "metadata": {
        "id": "a28_x_eZ993K",
        "colab": {
          "base_uri": "https://localhost:8080/"
        },
        "outputId": "a26c6b24-9c3d-46a9-9e24-6223f1fee20b"
      },
      "execution_count": null,
      "outputs": [
        {
          "output_type": "stream",
          "name": "stdout",
          "text": [
            "{'train': [PosixPath('/content/drive/MyDrive/RNN_complex_check/train/v_Sad_g03_c14.avi'), PosixPath('/content/drive/MyDrive/RNN_complex_check/train/v_Sad_g03_c13.avi'), PosixPath('/content/drive/MyDrive/RNN_complex_check/train/v_Sad_g03_c12.avi'), PosixPath('/content/drive/MyDrive/RNN_complex_check/train/v_Sad_g03_c11.avi'), PosixPath('/content/drive/MyDrive/RNN_complex_check/train/v_Sad_g03_c10.avi'), PosixPath('/content/drive/MyDrive/RNN_complex_check/train/v_Sad_g03_c07.avi'), PosixPath('/content/drive/MyDrive/RNN_complex_check/train/v_Sad_g03_c06.avi'), PosixPath('/content/drive/MyDrive/RNN_complex_check/train/v_Sad_g03_c05.avi'), PosixPath('/content/drive/MyDrive/RNN_complex_check/train/v_Sad_g03_c04.avi'), PosixPath('/content/drive/MyDrive/RNN_complex_check/train/v_Sad_g03_c03.avi'), PosixPath('/content/drive/MyDrive/RNN_complex_check/train/v_Sad_g03_c01.avi'), PosixPath('/content/drive/MyDrive/RNN_complex_check/train/v_Neutral_g01_c26.avi'), PosixPath('/content/drive/MyDrive/RNN_complex_check/train/v_Neutral_g01_c25.avi'), PosixPath('/content/drive/MyDrive/RNN_complex_check/train/v_Neutral_g01_c24.avi'), PosixPath('/content/drive/MyDrive/RNN_complex_check/train/v_Neutral_g01_c23.avi'), PosixPath('/content/drive/MyDrive/RNN_complex_check/train/v_Neutral_g01_c22.avi'), PosixPath('/content/drive/MyDrive/RNN_complex_check/train/v_Neutral_g01_c20.avi'), PosixPath('/content/drive/MyDrive/RNN_complex_check/train/v_Neutral_g01_c19.avi'), PosixPath('/content/drive/MyDrive/RNN_complex_check/train/v_Neutral_g01_c18.avi'), PosixPath('/content/drive/MyDrive/RNN_complex_check/train/v_Neutral_g01_c17.avi'), PosixPath('/content/drive/MyDrive/RNN_complex_check/train/v_Neutral_g01_c16.avi'), PosixPath('/content/drive/MyDrive/RNN_complex_check/train/v_Neutral_g01_c15.avi'), PosixPath('/content/drive/MyDrive/RNN_complex_check/train/v_Neutral_g01_c13.avi'), PosixPath('/content/drive/MyDrive/RNN_complex_check/train/v_Neutral_g01_c12.avi'), PosixPath('/content/drive/MyDrive/RNN_complex_check/train/v_Neutral_g01_c11.avi'), PosixPath('/content/drive/MyDrive/RNN_complex_check/train/v_Neutral_g01_c10.avi'), PosixPath('/content/drive/MyDrive/RNN_complex_check/train/v_Neutral_g01_c09.avi'), PosixPath('/content/drive/MyDrive/RNN_complex_check/train/v_Neutral_g01_c08.avi'), PosixPath('/content/drive/MyDrive/RNN_complex_check/train/v_Neutral_g01_c05.avi'), PosixPath('/content/drive/MyDrive/RNN_complex_check/train/v_Neutral_g01_c04.avi'), PosixPath('/content/drive/MyDrive/RNN_complex_check/train/v_Neutral_g01_c03.avi'), PosixPath('/content/drive/MyDrive/RNN_complex_check/train/v_Neutral_g01_c02.avi'), PosixPath('/content/drive/MyDrive/RNN_complex_check/train/v_Neutral_g01_c01.avi'), PosixPath('/content/drive/MyDrive/RNN_complex_check/train/v_Happy_g05_c26.avi'), PosixPath('/content/drive/MyDrive/RNN_complex_check/train/v_Happy_g05_c25.avi'), PosixPath('/content/drive/MyDrive/RNN_complex_check/train/v_Happy_g05_c24.avi'), PosixPath('/content/drive/MyDrive/RNN_complex_check/train/v_Happy_g05_c23.avi'), PosixPath('/content/drive/MyDrive/RNN_complex_check/train/v_Happy_g05_c22.avi'), PosixPath('/content/drive/MyDrive/RNN_complex_check/train/v_Happy_g05_c19.avi'), PosixPath('/content/drive/MyDrive/RNN_complex_check/train/v_Happy_g05_c18.avi'), PosixPath('/content/drive/MyDrive/RNN_complex_check/train/v_Happy_g05_c17.avi'), PosixPath('/content/drive/MyDrive/RNN_complex_check/train/v_Happy_g05_c16.avi'), PosixPath('/content/drive/MyDrive/RNN_complex_check/train/v_Happy_g05_c15.avi'), PosixPath('/content/drive/MyDrive/RNN_complex_check/train/v_Happy_g05_c12.avi'), PosixPath('/content/drive/MyDrive/RNN_complex_check/train/v_Happy_g05_c11.avi'), PosixPath('/content/drive/MyDrive/RNN_complex_check/train/v_Happy_g05_c10.avi'), PosixPath('/content/drive/MyDrive/RNN_complex_check/train/v_Happy_g05_c09.avi'), PosixPath('/content/drive/MyDrive/RNN_complex_check/train/v_Happy_g05_c08.avi'), PosixPath('/content/drive/MyDrive/RNN_complex_check/train/v_Happy_g05_c05.avi'), PosixPath('/content/drive/MyDrive/RNN_complex_check/train/v_Happy_g05_c04.avi'), PosixPath('/content/drive/MyDrive/RNN_complex_check/train/v_Happy_g05_c03.avi'), PosixPath('/content/drive/MyDrive/RNN_complex_check/train/v_Happy_g05_c02.avi'), PosixPath('/content/drive/MyDrive/RNN_complex_check/train/v_Happy_g05_c01.avi'), PosixPath('/content/drive/MyDrive/RNN_complex_check/train/v_Fear_g04_c07.avi'), PosixPath('/content/drive/MyDrive/RNN_complex_check/train/v_Fear_g04_c05.avi'), PosixPath('/content/drive/MyDrive/RNN_complex_check/train/v_Fear_g04_c04_.avi'), PosixPath('/content/drive/MyDrive/RNN_complex_check/train/v_Fear_g04_c03.avi'), PosixPath('/content/drive/MyDrive/RNN_complex_check/train/v_Fear_g04_c02.avi'), PosixPath('/content/drive/MyDrive/RNN_complex_check/train/v_Fear_g04_c01.avi'), PosixPath('/content/drive/MyDrive/RNN_complex_check/train/v_Disgust_g02_c08.avi'), PosixPath('/content/drive/MyDrive/RNN_complex_check/train/v_Disgust_g02_c05.avi'), PosixPath('/content/drive/MyDrive/RNN_complex_check/train/v_Disgust_g02_c04.avi'), PosixPath('/content/drive/MyDrive/RNN_complex_check/train/v_Disgust_g02_c03.avi'), PosixPath('/content/drive/MyDrive/RNN_complex_check/train/v_Disgust_g02_c02.avi'), PosixPath('/content/drive/MyDrive/RNN_complex_check/train/v_Disgust_g02_c01.avi'), PosixPath('/content/drive/MyDrive/RNN_complex_check/train/v_Anger_g08_c04.avi'), PosixPath('/content/drive/MyDrive/RNN_complex_check/train/v_Anger_g08_c03.avi'), PosixPath('/content/drive/MyDrive/RNN_complex_check/train/v_Anger_g08_c02.avi'), PosixPath('/content/drive/MyDrive/RNN_complex_check/train/v_Anger_g08_c01.avi'), PosixPath('/content/drive/MyDrive/RNN_complex_check/train/v_Surprise_g07_c 01.avi')], 'test': [PosixPath('/content/drive/MyDrive/RNN_complex_check/test/v_Surprise_g07_c02.avi'), PosixPath('/content/drive/MyDrive/RNN_complex_check/test/v_Sad_g03_c16.avi'), PosixPath('/content/drive/MyDrive/RNN_complex_check/test/v_Sad_g03_c15.avi'), PosixPath('/content/drive/MyDrive/RNN_complex_check/test/v_Sad_g03_c09.avi'), PosixPath('/content/drive/MyDrive/RNN_complex_check/test/v_Sad_g03_c08.avi'), PosixPath('/content/drive/MyDrive/RNN_complex_check/test/v_Sad_g03_c02.avi'), PosixPath('/content/drive/MyDrive/RNN_complex_check/test/v_Neutral_g01_c31.avi'), PosixPath('/content/drive/MyDrive/RNN_complex_check/test/v_Neutral_g01_c30.avi'), PosixPath('/content/drive/MyDrive/RNN_complex_check/test/v_Neutral_g01_c29.avi'), PosixPath('/content/drive/MyDrive/RNN_complex_check/test/v_Neutral_g01_c28.avi'), PosixPath('/content/drive/MyDrive/RNN_complex_check/test/v_Neutral_g01_c27.avi'), PosixPath('/content/drive/MyDrive/RNN_complex_check/test/v_Neutral_g01_c21.avi'), PosixPath('/content/drive/MyDrive/RNN_complex_check/test/v_Neutral_g01_c14.avi'), PosixPath('/content/drive/MyDrive/RNN_complex_check/test/v_Neutral_g01_c07.avi'), PosixPath('/content/drive/MyDrive/RNN_complex_check/test/v_Neutral_g01_c06.avi'), PosixPath('/content/drive/MyDrive/RNN_complex_check/test/v_Happy_g05_c28.avi'), PosixPath('/content/drive/MyDrive/RNN_complex_check/test/v_Happy_g05_c27.avi'), PosixPath('/content/drive/MyDrive/RNN_complex_check/test/v_Happy_g05_c21.avi'), PosixPath('/content/drive/MyDrive/RNN_complex_check/test/v_Happy_g05_c20.avi'), PosixPath('/content/drive/MyDrive/RNN_complex_check/test/v_Happy_g05_c14.avi'), PosixPath('/content/drive/MyDrive/RNN_complex_check/test/v_Happy_g05_c13.avi'), PosixPath('/content/drive/MyDrive/RNN_complex_check/test/v_Happy_g05_c07.avi'), PosixPath('/content/drive/MyDrive/RNN_complex_check/test/v_Happy_g05_c06.avi'), PosixPath('/content/drive/MyDrive/RNN_complex_check/test/v_Fear_g04_c08.avi'), PosixPath('/content/drive/MyDrive/RNN_complex_check/test/v_Fear_g04_c06.avi'), PosixPath('/content/drive/MyDrive/RNN_complex_check/test/v_Disgust_g02_c07.avi'), PosixPath('/content/drive/MyDrive/RNN_complex_check/test/v_Disgust_g02_c06.avi'), PosixPath('/content/drive/MyDrive/RNN_complex_check/test/v_Anger_g08_c07.avi'), PosixPath('/content/drive/MyDrive/RNN_complex_check/test/v_Anger_g08_c06.avi'), PosixPath('/content/drive/MyDrive/RNN_complex_check/test/v_Anger_g08_c05.avi')]}\n"
          ]
        }
      ]
    },
    {
      "cell_type": "code",
      "source": [
        "autism_video_dict['train'][:70]"
      ],
      "metadata": {
        "colab": {
          "base_uri": "https://localhost:8080/"
        },
        "id": "2KzJ4gIE-y9o",
        "outputId": "f92353f8-f908-4c00-b0b4-1a76ab5cb51f"
      },
      "execution_count": null,
      "outputs": [
        {
          "output_type": "execute_result",
          "data": {
            "text/plain": [
              "[PosixPath('/content/drive/MyDrive/RNN_complex_check/train/v_Sad_g03_c14.avi'),\n",
              " PosixPath('/content/drive/MyDrive/RNN_complex_check/train/v_Sad_g03_c13.avi'),\n",
              " PosixPath('/content/drive/MyDrive/RNN_complex_check/train/v_Sad_g03_c12.avi'),\n",
              " PosixPath('/content/drive/MyDrive/RNN_complex_check/train/v_Sad_g03_c11.avi'),\n",
              " PosixPath('/content/drive/MyDrive/RNN_complex_check/train/v_Sad_g03_c10.avi'),\n",
              " PosixPath('/content/drive/MyDrive/RNN_complex_check/train/v_Sad_g03_c07.avi'),\n",
              " PosixPath('/content/drive/MyDrive/RNN_complex_check/train/v_Sad_g03_c06.avi'),\n",
              " PosixPath('/content/drive/MyDrive/RNN_complex_check/train/v_Sad_g03_c05.avi'),\n",
              " PosixPath('/content/drive/MyDrive/RNN_complex_check/train/v_Sad_g03_c04.avi'),\n",
              " PosixPath('/content/drive/MyDrive/RNN_complex_check/train/v_Sad_g03_c03.avi'),\n",
              " PosixPath('/content/drive/MyDrive/RNN_complex_check/train/v_Sad_g03_c01.avi'),\n",
              " PosixPath('/content/drive/MyDrive/RNN_complex_check/train/v_Neutral_g01_c26.avi'),\n",
              " PosixPath('/content/drive/MyDrive/RNN_complex_check/train/v_Neutral_g01_c25.avi'),\n",
              " PosixPath('/content/drive/MyDrive/RNN_complex_check/train/v_Neutral_g01_c24.avi'),\n",
              " PosixPath('/content/drive/MyDrive/RNN_complex_check/train/v_Neutral_g01_c23.avi'),\n",
              " PosixPath('/content/drive/MyDrive/RNN_complex_check/train/v_Neutral_g01_c22.avi'),\n",
              " PosixPath('/content/drive/MyDrive/RNN_complex_check/train/v_Neutral_g01_c20.avi'),\n",
              " PosixPath('/content/drive/MyDrive/RNN_complex_check/train/v_Neutral_g01_c19.avi'),\n",
              " PosixPath('/content/drive/MyDrive/RNN_complex_check/train/v_Neutral_g01_c18.avi'),\n",
              " PosixPath('/content/drive/MyDrive/RNN_complex_check/train/v_Neutral_g01_c17.avi'),\n",
              " PosixPath('/content/drive/MyDrive/RNN_complex_check/train/v_Neutral_g01_c16.avi'),\n",
              " PosixPath('/content/drive/MyDrive/RNN_complex_check/train/v_Neutral_g01_c15.avi'),\n",
              " PosixPath('/content/drive/MyDrive/RNN_complex_check/train/v_Neutral_g01_c13.avi'),\n",
              " PosixPath('/content/drive/MyDrive/RNN_complex_check/train/v_Neutral_g01_c12.avi'),\n",
              " PosixPath('/content/drive/MyDrive/RNN_complex_check/train/v_Neutral_g01_c11.avi'),\n",
              " PosixPath('/content/drive/MyDrive/RNN_complex_check/train/v_Neutral_g01_c10.avi'),\n",
              " PosixPath('/content/drive/MyDrive/RNN_complex_check/train/v_Neutral_g01_c09.avi'),\n",
              " PosixPath('/content/drive/MyDrive/RNN_complex_check/train/v_Neutral_g01_c08.avi'),\n",
              " PosixPath('/content/drive/MyDrive/RNN_complex_check/train/v_Neutral_g01_c05.avi'),\n",
              " PosixPath('/content/drive/MyDrive/RNN_complex_check/train/v_Neutral_g01_c04.avi'),\n",
              " PosixPath('/content/drive/MyDrive/RNN_complex_check/train/v_Neutral_g01_c03.avi'),\n",
              " PosixPath('/content/drive/MyDrive/RNN_complex_check/train/v_Neutral_g01_c02.avi'),\n",
              " PosixPath('/content/drive/MyDrive/RNN_complex_check/train/v_Neutral_g01_c01.avi'),\n",
              " PosixPath('/content/drive/MyDrive/RNN_complex_check/train/v_Happy_g05_c26.avi'),\n",
              " PosixPath('/content/drive/MyDrive/RNN_complex_check/train/v_Happy_g05_c25.avi'),\n",
              " PosixPath('/content/drive/MyDrive/RNN_complex_check/train/v_Happy_g05_c24.avi'),\n",
              " PosixPath('/content/drive/MyDrive/RNN_complex_check/train/v_Happy_g05_c23.avi'),\n",
              " PosixPath('/content/drive/MyDrive/RNN_complex_check/train/v_Happy_g05_c22.avi'),\n",
              " PosixPath('/content/drive/MyDrive/RNN_complex_check/train/v_Happy_g05_c19.avi'),\n",
              " PosixPath('/content/drive/MyDrive/RNN_complex_check/train/v_Happy_g05_c18.avi'),\n",
              " PosixPath('/content/drive/MyDrive/RNN_complex_check/train/v_Happy_g05_c17.avi'),\n",
              " PosixPath('/content/drive/MyDrive/RNN_complex_check/train/v_Happy_g05_c16.avi'),\n",
              " PosixPath('/content/drive/MyDrive/RNN_complex_check/train/v_Happy_g05_c15.avi'),\n",
              " PosixPath('/content/drive/MyDrive/RNN_complex_check/train/v_Happy_g05_c12.avi'),\n",
              " PosixPath('/content/drive/MyDrive/RNN_complex_check/train/v_Happy_g05_c11.avi'),\n",
              " PosixPath('/content/drive/MyDrive/RNN_complex_check/train/v_Happy_g05_c10.avi'),\n",
              " PosixPath('/content/drive/MyDrive/RNN_complex_check/train/v_Happy_g05_c09.avi'),\n",
              " PosixPath('/content/drive/MyDrive/RNN_complex_check/train/v_Happy_g05_c08.avi'),\n",
              " PosixPath('/content/drive/MyDrive/RNN_complex_check/train/v_Happy_g05_c05.avi'),\n",
              " PosixPath('/content/drive/MyDrive/RNN_complex_check/train/v_Happy_g05_c04.avi'),\n",
              " PosixPath('/content/drive/MyDrive/RNN_complex_check/train/v_Happy_g05_c03.avi'),\n",
              " PosixPath('/content/drive/MyDrive/RNN_complex_check/train/v_Happy_g05_c02.avi'),\n",
              " PosixPath('/content/drive/MyDrive/RNN_complex_check/train/v_Happy_g05_c01.avi'),\n",
              " PosixPath('/content/drive/MyDrive/RNN_complex_check/train/v_Fear_g04_c07.avi'),\n",
              " PosixPath('/content/drive/MyDrive/RNN_complex_check/train/v_Fear_g04_c05.avi'),\n",
              " PosixPath('/content/drive/MyDrive/RNN_complex_check/train/v_Fear_g04_c04_.avi'),\n",
              " PosixPath('/content/drive/MyDrive/RNN_complex_check/train/v_Fear_g04_c03.avi'),\n",
              " PosixPath('/content/drive/MyDrive/RNN_complex_check/train/v_Fear_g04_c02.avi'),\n",
              " PosixPath('/content/drive/MyDrive/RNN_complex_check/train/v_Fear_g04_c01.avi'),\n",
              " PosixPath('/content/drive/MyDrive/RNN_complex_check/train/v_Disgust_g02_c08.avi'),\n",
              " PosixPath('/content/drive/MyDrive/RNN_complex_check/train/v_Disgust_g02_c05.avi'),\n",
              " PosixPath('/content/drive/MyDrive/RNN_complex_check/train/v_Disgust_g02_c04.avi'),\n",
              " PosixPath('/content/drive/MyDrive/RNN_complex_check/train/v_Disgust_g02_c03.avi'),\n",
              " PosixPath('/content/drive/MyDrive/RNN_complex_check/train/v_Disgust_g02_c02.avi'),\n",
              " PosixPath('/content/drive/MyDrive/RNN_complex_check/train/v_Disgust_g02_c01.avi'),\n",
              " PosixPath('/content/drive/MyDrive/RNN_complex_check/train/v_Anger_g08_c04.avi'),\n",
              " PosixPath('/content/drive/MyDrive/RNN_complex_check/train/v_Anger_g08_c03.avi'),\n",
              " PosixPath('/content/drive/MyDrive/RNN_complex_check/train/v_Anger_g08_c02.avi'),\n",
              " PosixPath('/content/drive/MyDrive/RNN_complex_check/train/v_Anger_g08_c01.avi'),\n",
              " PosixPath('/content/drive/MyDrive/RNN_complex_check/train/v_Surprise_g07_c 01.avi')]"
            ]
          },
          "metadata": {},
          "execution_count": 16
        }
      ]
    },
    {
      "cell_type": "code",
      "source": [
        "autism_labels_dict = {\n",
        "    'test' : 0,\n",
        "    'train' : 1,\n",
        "}\n",
        "print(autism_labels_dict)"
      ],
      "metadata": {
        "id": "ypagEQU0ATfX",
        "colab": {
          "base_uri": "https://localhost:8080/"
        },
        "outputId": "e064bc0b-7d4c-4b0b-ede3-3f79dcdcaad0"
      },
      "execution_count": null,
      "outputs": [
        {
          "output_type": "stream",
          "name": "stdout",
          "text": [
            "{'test': 0, 'train': 1}\n"
          ]
        }
      ]
    },
    {
      "cell_type": "code",
      "source": [
        "video_path = str(autism_video_dict['train'][:70])\n",
        "video_path"
      ],
      "metadata": {
        "colab": {
          "base_uri": "https://localhost:8080/",
          "height": 139
        },
        "id": "rj2b-xtzBMtE",
        "outputId": "c739e31a-c88c-477b-9790-886224cde261"
      },
      "execution_count": null,
      "outputs": [
        {
          "output_type": "execute_result",
          "data": {
            "text/plain": [
              "\"[PosixPath('/content/drive/MyDrive/RNN_complex_check/train/v_Sad_g03_c14.avi'), PosixPath('/content/drive/MyDrive/RNN_complex_check/train/v_Sad_g03_c13.avi'), PosixPath('/content/drive/MyDrive/RNN_complex_check/train/v_Sad_g03_c12.avi'), PosixPath('/content/drive/MyDrive/RNN_complex_check/train/v_Sad_g03_c11.avi'), PosixPath('/content/drive/MyDrive/RNN_complex_check/train/v_Sad_g03_c10.avi'), PosixPath('/content/drive/MyDrive/RNN_complex_check/train/v_Sad_g03_c07.avi'), PosixPath('/content/drive/MyDrive/RNN_complex_check/train/v_Sad_g03_c06.avi'), PosixPath('/content/drive/MyDrive/RNN_complex_check/train/v_Sad_g03_c05.avi'), PosixPath('/content/drive/MyDrive/RNN_complex_check/train/v_Sad_g03_c04.avi'), PosixPath('/content/drive/MyDrive/RNN_complex_check/train/v_Sad_g03_c03.avi'), PosixPath('/content/drive/MyDrive/RNN_complex_check/train/v_Sad_g03_c01.avi'), PosixPath('/content/drive/MyDrive/RNN_complex_check/train/v_Neutral_g01_c26.avi'), PosixPath('/content/drive/MyDrive/RNN_complex_check/train/v_Neutral_g01_c25.avi'), PosixPath('/content/drive/MyDrive/RNN_complex_check/train/v_Neutral_g01_c24.avi'), PosixPath('/content/drive/MyDrive/RNN_complex_check/train/v_Neutral_g01_c23.avi'), PosixPath('/content/drive/MyDrive/RNN_complex_check/train/v_Neutral_g01_c22.avi'), PosixPath('/content/drive/MyDrive/RNN_complex_check/train/v_Neutral_g01_c20.avi'), PosixPath('/content/drive/MyDrive/RNN_complex_check/train/v_Neutral_g01_c19.avi'), PosixPath('/content/drive/MyDrive/RNN_complex_check/train/v_Neutral_g01_c18.avi'), PosixPath('/content/drive/MyDrive/RNN_complex_check/train/v_Neutral_g01_c17.avi'), PosixPath('/content/drive/MyDrive/RNN_complex_check/train/v_Neutral_g01_c16.avi'), PosixPath('/content/drive/MyDrive/RNN_complex_check/train/v_Neutral_g01_c15.avi'), PosixPath('/content/drive/MyDrive/RNN_complex_check/train/v_Neutral_g01_c13.avi'), PosixPath('/content/drive/MyDrive/RNN_complex_check/train/v_Neutral_g01_c12.avi'), PosixPath('/content/drive/MyDrive/RNN_complex_check/train/v_Neutral_g01_c11.avi'), PosixPath('/content/drive/MyDrive/RNN_complex_check/train/v_Neutral_g01_c10.avi'), PosixPath('/content/drive/MyDrive/RNN_complex_check/train/v_Neutral_g01_c09.avi'), PosixPath('/content/drive/MyDrive/RNN_complex_check/train/v_Neutral_g01_c08.avi'), PosixPath('/content/drive/MyDrive/RNN_complex_check/train/v_Neutral_g01_c05.avi'), PosixPath('/content/drive/MyDrive/RNN_complex_check/train/v_Neutral_g01_c04.avi'), PosixPath('/content/drive/MyDrive/RNN_complex_check/train/v_Neutral_g01_c03.avi'), PosixPath('/content/drive/MyDrive/RNN_complex_check/train/v_Neutral_g01_c02.avi'), PosixPath('/content/drive/MyDrive/RNN_complex_check/train/v_Neutral_g01_c01.avi'), PosixPath('/content/drive/MyDrive/RNN_complex_check/train/v_Happy_g05_c26.avi'), PosixPath('/content/drive/MyDrive/RNN_complex_check/train/v_Happy_g05_c25.avi'), PosixPath('/content/drive/MyDrive/RNN_complex_check/train/v_Happy_g05_c24.avi'), PosixPath('/content/drive/MyDrive/RNN_complex_check/train/v_Happy_g05_c23.avi'), PosixPath('/content/drive/MyDrive/RNN_complex_check/train/v_Happy_g05_c22.avi'), PosixPath('/content/drive/MyDrive/RNN_complex_check/train/v_Happy_g05_c19.avi'), PosixPath('/content/drive/MyDrive/RNN_complex_check/train/v_Happy_g05_c18.avi'), PosixPath('/content/drive/MyDrive/RNN_complex_check/train/v_Happy_g05_c17.avi'), PosixPath('/content/drive/MyDrive/RNN_complex_check/train/v_Happy_g05_c16.avi'), PosixPath('/content/drive/MyDrive/RNN_complex_check/train/v_Happy_g05_c15.avi'), PosixPath('/content/drive/MyDrive/RNN_complex_check/train/v_Happy_g05_c12.avi'), PosixPath('/content/drive/MyDrive/RNN_complex_check/train/v_Happy_g05_c11.avi'), PosixPath('/content/drive/MyDrive/RNN_complex_check/train/v_Happy_g05_c10.avi'), PosixPath('/content/drive/MyDrive/RNN_complex_check/train/v_Happy_g05_c09.avi'), PosixPath('/content/drive/MyDrive/RNN_complex_check/train/v_Happy_g05_c08.avi'), PosixPath('/content/drive/MyDrive/RNN_complex_check/train/v_Happy_g05_c05.avi'), PosixPath('/content/drive/MyDrive/RNN_complex_check/train/v_Happy_g05_c04.avi'), PosixPath('/content/drive/MyDrive/RNN_complex_check/train/v_Happy_g05_c03.avi'), PosixPath('/content/drive/MyDrive/RNN_complex_check/train/v_Happy_g05_c02.avi'), PosixPath('/content/drive/MyDrive/RNN_complex_check/train/v_Happy_g05_c01.avi'), PosixPath('/content/drive/MyDrive/RNN_complex_check/train/v_Fear_g04_c07.avi'), PosixPath('/content/drive/MyDrive/RNN_complex_check/train/v_Fear_g04_c05.avi'), PosixPath('/content/drive/MyDrive/RNN_complex_check/train/v_Fear_g04_c04_.avi'), PosixPath('/content/drive/MyDrive/RNN_complex_check/train/v_Fear_g04_c03.avi'), PosixPath('/content/drive/MyDrive/RNN_complex_check/train/v_Fear_g04_c02.avi'), PosixPath('/content/drive/MyDrive/RNN_complex_check/train/v_Fear_g04_c01.avi'), PosixPath('/content/drive/MyDrive/RNN_complex_check/train/v_Disgust_g02_c08.avi'), PosixPath('/content/drive/MyDrive/RNN_complex_check/train/v_Disgust_g02_c05.avi'), PosixPath('/content/drive/MyDrive/RNN_complex_check/train/v_Disgust_g02_c04.avi'), PosixPath('/content/drive/MyDrive/RNN_complex_check/train/v_Disgust_g02_c03.avi'), PosixPath('/content/drive/MyDrive/RNN_complex_check/train/v_Disgust_g02_c02.avi'), PosixPath('/content/drive/MyDrive/RNN_complex_check/train/v_Disgust_g02_c01.avi'), PosixPath('/content/drive/MyDrive/RNN_complex_check/train/v_Anger_g08_c04.avi'), PosixPath('/content/drive/MyDrive/RNN_complex_check/train/v_Anger_g08_c03.avi'), PosixPath('/content/drive/MyDrive/RNN_complex_check/train/v_Anger_g08_c02.avi'), PosixPath('/content/drive/MyDrive/RNN_complex_check/train/v_Anger_g08_c01.avi'), PosixPath('/content/drive/MyDrive/RNN_complex_check/train/v_Surprise_g07_c 01.avi')]\""
            ],
            "application/vnd.google.colaboratory.intrinsic+json": {
              "type": "string"
            }
          },
          "metadata": {},
          "execution_count": 19
        }
      ]
    },
    {
      "cell_type": "code",
      "source": [
        "!ls -l {video_path}"
      ],
      "metadata": {
        "colab": {
          "base_uri": "https://localhost:8080/"
        },
        "id": "z0oeIyVJGi_P",
        "outputId": "f169e88f-34fa-4c12-c7c4-4db7d3a754c6"
      },
      "execution_count": null,
      "outputs": [
        {
          "output_type": "stream",
          "name": "stdout",
          "text": [
            "/bin/bash: -c: line 1: syntax error near unexpected token `('\n",
            "/bin/bash: -c: line 1: `ls -l [PosixPath('/content/drive/MyDrive/RNN_complex_check/train/v_Sad_g03_c14.avi'), PosixPath('/content/drive/MyDrive/RNN_complex_check/train/v_Sad_g03_c13.avi'), PosixPath('/content/drive/MyDrive/RNN_complex_check/train/v_Sad_g03_c12.avi'), PosixPath('/content/drive/MyDrive/RNN_complex_check/train/v_Sad_g03_c11.avi'), PosixPath('/content/drive/MyDrive/RNN_complex_check/train/v_Sad_g03_c10.avi'), PosixPath('/content/drive/MyDrive/RNN_complex_check/train/v_Sad_g03_c07.avi'), PosixPath('/content/drive/MyDrive/RNN_complex_check/train/v_Sad_g03_c06.avi'), PosixPath('/content/drive/MyDrive/RNN_complex_check/train/v_Sad_g03_c05.avi'), PosixPath('/content/drive/MyDrive/RNN_complex_check/train/v_Sad_g03_c04.avi'), PosixPath('/content/drive/MyDrive/RNN_complex_check/train/v_Sad_g03_c03.avi'), PosixPath('/content/drive/MyDrive/RNN_complex_check/train/v_Sad_g03_c01.avi'), PosixPath('/content/drive/MyDrive/RNN_complex_check/train/v_Neutral_g01_c26.avi'), PosixPath('/content/drive/MyDrive/RNN_complex_check/train/v_Neutral_g01_c25.avi'), PosixPath('/content/drive/MyDrive/RNN_complex_check/train/v_Neutral_g01_c24.avi'), PosixPath('/content/drive/MyDrive/RNN_complex_check/train/v_Neutral_g01_c23.avi'), PosixPath('/content/drive/MyDrive/RNN_complex_check/train/v_Neutral_g01_c22.avi'), PosixPath('/content/drive/MyDrive/RNN_complex_check/train/v_Neutral_g01_c20.avi'), PosixPath('/content/drive/MyDrive/RNN_complex_check/train/v_Neutral_g01_c19.avi'), PosixPath('/content/drive/MyDrive/RNN_complex_check/train/v_Neutral_g01_c18.avi'), PosixPath('/content/drive/MyDrive/RNN_complex_check/train/v_Neutral_g01_c17.avi'), PosixPath('/content/drive/MyDrive/RNN_complex_check/train/v_Neutral_g01_c16.avi'), PosixPath('/content/drive/MyDrive/RNN_complex_check/train/v_Neutral_g01_c15.avi'), PosixPath('/content/drive/MyDrive/RNN_complex_check/train/v_Neutral_g01_c13.avi'), PosixPath('/content/drive/MyDrive/RNN_complex_check/train/v_Neutral_g01_c12.avi'), PosixPath('/content/drive/MyDrive/RNN_complex_check/train/v_Neutral_g01_c11.avi'), PosixPath('/content/drive/MyDrive/RNN_complex_check/train/v_Neutral_g01_c10.avi'), PosixPath('/content/drive/MyDrive/RNN_complex_check/train/v_Neutral_g01_c09.avi'), PosixPath('/content/drive/MyDrive/RNN_complex_check/train/v_Neutral_g01_c08.avi'), PosixPath('/content/drive/MyDrive/RNN_complex_check/train/v_Neutral_g01_c05.avi'), PosixPath('/content/drive/MyDrive/RNN_complex_check/train/v_Neutral_g01_c04.avi'), PosixPath('/content/drive/MyDrive/RNN_complex_check/train/v_Neutral_g01_c03.avi'), PosixPath('/content/drive/MyDrive/RNN_complex_check/train/v_Neutral_g01_c02.avi'), PosixPath('/content/drive/MyDrive/RNN_complex_check/train/v_Neutral_g01_c01.avi'), PosixPath('/content/drive/MyDrive/RNN_complex_check/train/v_Happy_g05_c26.avi'), PosixPath('/content/drive/MyDrive/RNN_complex_check/train/v_Happy_g05_c25.avi'), PosixPath('/content/drive/MyDrive/RNN_complex_check/train/v_Happy_g05_c24.avi'), PosixPath('/content/drive/MyDrive/RNN_complex_check/train/v_Happy_g05_c23.avi'), PosixPath('/content/drive/MyDrive/RNN_complex_check/train/v_Happy_g05_c22.avi'), PosixPath('/content/drive/MyDrive/RNN_complex_check/train/v_Happy_g05_c19.avi'), PosixPath('/content/drive/MyDrive/RNN_complex_check/train/v_Happy_g05_c18.avi'), PosixPath('/content/drive/MyDrive/RNN_complex_check/train/v_Happy_g05_c17.avi'), PosixPath('/content/drive/MyDrive/RNN_complex_check/train/v_Happy_g05_c16.avi'), PosixPath('/content/drive/MyDrive/RNN_complex_check/train/v_Happy_g05_c15.avi'), PosixPath('/content/drive/MyDrive/RNN_complex_check/train/v_Happy_g05_c12.avi'), PosixPath('/content/drive/MyDrive/RNN_complex_check/train/v_Happy_g05_c11.avi'), PosixPath('/content/drive/MyDrive/RNN_complex_check/train/v_Happy_g05_c10.avi'), PosixPath('/content/drive/MyDrive/RNN_complex_check/train/v_Happy_g05_c09.avi'), PosixPath('/content/drive/MyDrive/RNN_complex_check/train/v_Happy_g05_c08.avi'), PosixPath('/content/drive/MyDrive/RNN_complex_check/train/v_Happy_g05_c05.avi'), PosixPath('/content/drive/MyDrive/RNN_complex_check/train/v_Happy_g05_c04.avi'), PosixPath('/content/drive/MyDrive/RNN_complex_check/train/v_Happy_g05_c03.avi'), PosixPath('/content/drive/MyDrive/RNN_complex_check/train/v_Happy_g05_c02.avi'), PosixPath('/content/drive/MyDrive/RNN_complex_check/train/v_Happy_g05_c01.avi'), PosixPath('/content/drive/MyDrive/RNN_complex_check/train/v_Fear_g04_c07.avi'), PosixPath('/content/drive/MyDrive/RNN_complex_check/train/v_Fear_g04_c05.avi'), PosixPath('/content/drive/MyDrive/RNN_complex_check/train/v_Fear_g04_c04_.avi'), PosixPath('/content/drive/MyDrive/RNN_complex_check/train/v_Fear_g04_c03.avi'), PosixPath('/content/drive/MyDrive/RNN_complex_check/train/v_Fear_g04_c02.avi'), PosixPath('/content/drive/MyDrive/RNN_complex_check/train/v_Fear_g04_c01.avi'), PosixPath('/content/drive/MyDrive/RNN_complex_check/train/v_Disgust_g02_c08.avi'), PosixPath('/content/drive/MyDrive/RNN_complex_check/train/v_Disgust_g02_c05.avi'), PosixPath('/content/drive/MyDrive/RNN_complex_check/train/v_Disgust_g02_c04.avi'), PosixPath('/content/drive/MyDrive/RNN_complex_check/train/v_Disgust_g02_c03.avi'), PosixPath('/content/drive/MyDrive/RNN_complex_check/train/v_Disgust_g02_c02.avi'), PosixPath('/content/drive/MyDrive/RNN_complex_check/train/v_Disgust_g02_c01.avi'), PosixPath('/content/drive/MyDrive/RNN_complex_check/train/v_Anger_g08_c04.avi'), PosixPath('/content/drive/MyDrive/RNN_complex_check/train/v_Anger_g08_c03.avi'), PosixPath('/content/drive/MyDrive/RNN_complex_check/train/v_Anger_g08_c02.avi'), PosixPath('/content/drive/MyDrive/RNN_complex_check/train/v_Anger_g08_c01.avi'), PosixPath('/content/drive/MyDrive/RNN_complex_check/train/v_Surprise_g07_c 01.avi')]'\n"
          ]
        }
      ]
    },
    {
      "cell_type": "code",
      "source": [
        "import cv2\n",
        "print(cv2)"
      ],
      "metadata": {
        "colab": {
          "base_uri": "https://localhost:8080/"
        },
        "id": "PfJosoKJHdWL",
        "outputId": "0426193e-ec84-4c9e-a1a2-169e1198a08d"
      },
      "execution_count": null,
      "outputs": [
        {
          "output_type": "stream",
          "name": "stdout",
          "text": [
            "<module 'cv2' (<google.colab._import_hooks._hook_injector.HookInjectorLoader object at 0x792b2c4f0f10>)>\n"
          ]
        }
      ]
    },
    {
      "cell_type": "code",
      "source": [
        "pip install opencv-python"
      ],
      "metadata": {
        "colab": {
          "base_uri": "https://localhost:8080/"
        },
        "id": "a1qd6r8iHsGZ",
        "outputId": "081275d7-2a19-445a-e4ac-2fc5a54b8288"
      },
      "execution_count": null,
      "outputs": [
        {
          "output_type": "stream",
          "name": "stdout",
          "text": [
            "Requirement already satisfied: opencv-python in /usr/local/lib/python3.10/dist-packages (4.10.0.84)\n",
            "Requirement already satisfied: numpy>=1.21.2 in /usr/local/lib/python3.10/dist-packages (from opencv-python) (1.25.2)\n"
          ]
        }
      ]
    },
    {
      "cell_type": "code",
      "source": [
        "pip install --upgrade opencv-python"
      ],
      "metadata": {
        "colab": {
          "base_uri": "https://localhost:8080/"
        },
        "id": "6B0V9h-1MUFy",
        "outputId": "cac9ba4d-b3af-4444-a85c-d0eb1cdeea5d"
      },
      "execution_count": null,
      "outputs": [
        {
          "output_type": "stream",
          "name": "stdout",
          "text": [
            "Requirement already satisfied: opencv-python in /usr/local/lib/python3.10/dist-packages (4.10.0.84)\n",
            "Requirement already satisfied: numpy>=1.21.2 in /usr/local/lib/python3.10/dist-packages (from opencv-python) (1.25.2)\n"
          ]
        }
      ]
    },
    {
      "cell_type": "code",
      "source": [
        "pip show opencv-python"
      ],
      "metadata": {
        "colab": {
          "base_uri": "https://localhost:8080/"
        },
        "id": "bVOCUQY6LFun",
        "outputId": "7e9ddf5a-288b-47bc-cf08-8b08841319f0"
      },
      "execution_count": null,
      "outputs": [
        {
          "output_type": "stream",
          "name": "stdout",
          "text": [
            "Name: opencv-python\n",
            "Version: 4.10.0.84\n",
            "Summary: Wrapper package for OpenCV python bindings.\n",
            "Home-page: https://github.com/opencv/opencv-python\n",
            "Author: \n",
            "Author-email: \n",
            "License: Apache 2.0\n",
            "Location: /usr/local/lib/python3.10/dist-packages\n",
            "Requires: numpy, numpy, numpy, numpy\n",
            "Required-by: dopamine_rl, imgaug\n"
          ]
        }
      ]
    },
    {
      "cell_type": "code",
      "source": [
        "import cv2\n",
        "\n",
        "# Check OpenCV version\n",
        "print(cv2.__version__)\n",
        "\n",
        "# Test VideoCapture\n",
        "cap = cv2.VideoCapture(video_path)  # 0 is the default camera, replace with a video file path if needed\n",
        "if cap.isOpened():\n",
        "    print(\"VideoCapture is working!\")\n",
        "else:\n",
        "    print(\"Failed to open VideoCapture.\")\n",
        "cap.release()\n"
      ],
      "metadata": {
        "colab": {
          "base_uri": "https://localhost:8080/"
        },
        "id": "qDgU1wHOMPnO",
        "outputId": "5813f7c0-3211-4235-8799-e2d149df4700"
      },
      "execution_count": null,
      "outputs": [
        {
          "output_type": "stream",
          "name": "stdout",
          "text": [
            "4.11.0\n",
            "Failed to open VideoCapture.\n"
          ]
        }
      ]
    },
    {
      "cell_type": "code",
      "source": [
        "import cv2\n",
        "\n",
        "video_capture = cv2.VideoCapture(video_path)\n",
        "video_capture\n"
      ],
      "metadata": {
        "colab": {
          "base_uri": "https://localhost:8080/"
        },
        "id": "4NdTNFboBXu2",
        "outputId": "e5bf8b2d-95a1-4c32-cd2c-f83927c2242a"
      },
      "execution_count": null,
      "outputs": [
        {
          "output_type": "execute_result",
          "data": {
            "text/plain": [
              "< cv2.VideoCapture 0x7929fc61b3f0>"
            ]
          },
          "metadata": {},
          "execution_count": 24
        }
      ]
    },
    {
      "cell_type": "code",
      "source": [
        "# Open the video file\n",
        "video_capture = cv2.VideoCapture(video_path)\n",
        "\n",
        "if not video_capture.isOpened():\n",
        "    print(\"Error: Could not open video.\")\n",
        "    exit()\n",
        "\n",
        "while True:\n",
        "    ret, frame = video_capture.read()\n",
        "    if not ret:\n",
        "        break\n",
        "\n",
        "    # Resize the frame to (180, 180)\n",
        "    resized_frame = cv2.resize(frame, (180, 180))\n",
        "\n",
        "    from google.colab.patches import cv2_imshow\n",
        "    cv2_imshow(resized_frame)\n",
        "\n",
        "    # Display the resized frame (optional)\n",
        "    cv2_imshow( resized_frame)\n",
        "    if cv2.waitKey(1) & 0xFF == ord('q'):\n",
        "        break\n",
        "\n",
        "# Release the video capture object and close any OpenCV windows\n",
        "video_capture.release()\n",
        "cv2.destroyAllWindows()\n"
      ],
      "metadata": {
        "colab": {
          "base_uri": "https://localhost:8080/"
        },
        "id": "4SE7XkmREMnu",
        "outputId": "7bf3addd-bd4d-480c-d8ee-a23768c78e87"
      },
      "execution_count": null,
      "outputs": [
        {
          "output_type": "stream",
          "name": "stdout",
          "text": [
            "Error: Could not open video.\n"
          ]
        }
      ]
    },
    {
      "cell_type": "code",
      "source": [
        "x, y = [], []\n",
        "for label, images in autism_video_dict.items():\n",
        "    for image in images:\n",
        "        video_capture = cv2.imread(str(image))\n",
        "        resized_frame = cv2.imread(frame, (180, 180))\n",
        "        x.append(resized_frame)\n",
        "        y.append(autism_labels_dict[label])"
      ],
      "metadata": {
        "id": "Y0c6Qvn_DMc5"
      },
      "execution_count": null,
      "outputs": []
    },
    {
      "cell_type": "code",
      "source": [
        "x = np.array(x)\n",
        "y = np.array(y)"
      ],
      "metadata": {
        "id": "YJrTJnnuEgN1"
      },
      "execution_count": null,
      "outputs": []
    },
    {
      "cell_type": "code",
      "source": [
        "from sklearn.model_selection import train_test_split\n",
        "x_train, x_test, y_train, y_test = train_test_split(x, y, test_size=0.2, random_state=42)"
      ],
      "metadata": {
        "id": "S4kWozxdHaNo"
      },
      "execution_count": null,
      "outputs": []
    },
    {
      "cell_type": "code",
      "source": [
        "x_train_scaled = x_train/255\n",
        "x_test_scaled = x_test/255"
      ],
      "metadata": {
        "id": "5F3IBUoHHsTj"
      },
      "execution_count": null,
      "outputs": []
    },
    {
      "cell_type": "code",
      "source": [
        "x_train_scaled[0]"
      ],
      "metadata": {
        "colab": {
          "base_uri": "https://localhost:8080/"
        },
        "id": "YurQn4O8IQZS",
        "outputId": "1fc03c84-e17e-427f-be03-f60fc5c58bc8"
      },
      "execution_count": null,
      "outputs": [
        {
          "output_type": "execute_result",
          "data": {
            "text/plain": [
              "array([[0.70588235],\n",
              "       [0.70588235]])"
            ]
          },
          "metadata": {},
          "execution_count": 72
        }
      ]
    },
    {
      "cell_type": "code",
      "source": [
        "import tensorflow as tf\n",
        "from tensorflow.keras import layers, Sequential\n",
        "\n",
        "num_classes = 2\n",
        "Model = Sequential([\n",
        "    layers.Conv2D(16, 3, padding='same', activation='relu', input_shape=(2, 1, 1)),\n",
        "    layers.MaxPooling2D(pool_size=(1,1)),\n",
        "    layers.Conv2D(32, 3, padding='same', activation='relu'),\n",
        "    layers.MaxPooling2D(pool_size=(1,1)),\n",
        "    layers.Conv2D(64, 3, padding='same', activation='relu'),\n",
        "    layers.MaxPooling2D(pool_size=(1,1)),\n",
        "    layers.Flatten(),\n",
        "    layers.Dense(128, activation='relu'),\n",
        "    layers.Dense(num_classes)\n",
        "])\n",
        "\n",
        "Model.compile(optimizer='adam',\n",
        "              loss=tf.keras.losses.SparseCategoricalCrossentropy(from_logits=True),\n",
        "              metrics=['accuracy'])\n",
        "\n",
        "# Reshape your data to include the channel dimension\n",
        "x_train_scaled = x_train_scaled.reshape((-1, 2, 1, 1)) # Assuming your images are 2x1\n",
        "\n",
        "Model.fit( x_train_scaled, y_train, epochs=10)"
      ],
      "metadata": {
        "colab": {
          "base_uri": "https://localhost:8080/"
        },
        "id": "Gq7vhKHjIsuk",
        "outputId": "0df036a3-fbcd-4cb2-da6c-df96d99cf8d2"
      },
      "execution_count": null,
      "outputs": [
        {
          "output_type": "stream",
          "name": "stdout",
          "text": [
            "Epoch 1/10\n",
            "3/3 [==============================] - 2s 21ms/step - loss: 0.6918 - accuracy: 0.5125\n",
            "Epoch 2/10\n",
            "3/3 [==============================] - 0s 6ms/step - loss: 0.6823 - accuracy: 0.7125\n",
            "Epoch 3/10\n",
            "3/3 [==============================] - 0s 5ms/step - loss: 0.6704 - accuracy: 0.7125\n",
            "Epoch 4/10\n",
            "3/3 [==============================] - 0s 8ms/step - loss: 0.6563 - accuracy: 0.7125\n",
            "Epoch 5/10\n",
            "3/3 [==============================] - 0s 7ms/step - loss: 0.6428 - accuracy: 0.7125\n",
            "Epoch 6/10\n",
            "3/3 [==============================] - 0s 7ms/step - loss: 0.6238 - accuracy: 0.7125\n",
            "Epoch 7/10\n",
            "3/3 [==============================] - 0s 5ms/step - loss: 0.6107 - accuracy: 0.7125\n",
            "Epoch 8/10\n",
            "3/3 [==============================] - 0s 5ms/step - loss: 0.5994 - accuracy: 0.7125\n",
            "Epoch 9/10\n",
            "3/3 [==============================] - 0s 5ms/step - loss: 0.6088 - accuracy: 0.7125\n",
            "Epoch 10/10\n",
            "3/3 [==============================] - 0s 4ms/step - loss: 0.6073 - accuracy: 0.7125\n"
          ]
        },
        {
          "output_type": "execute_result",
          "data": {
            "text/plain": [
              "<keras.src.callbacks.History at 0x7cf25f309030>"
            ]
          },
          "metadata": {},
          "execution_count": 73
        }
      ]
    },
    {
      "cell_type": "code",
      "source": [
        "Model.evaluate(x_test_scaled, y_test)"
      ],
      "metadata": {
        "colab": {
          "base_uri": "https://localhost:8080/"
        },
        "id": "HDS7k5SrQyC3",
        "outputId": "b43a9c29-e210-448c-e67d-26a50bc8f72d"
      },
      "execution_count": null,
      "outputs": [
        {
          "output_type": "stream",
          "name": "stdout",
          "text": [
            "1/1 [==============================] - 0s 282ms/step - loss: 0.6763 - accuracy: 0.6500\n"
          ]
        },
        {
          "output_type": "execute_result",
          "data": {
            "text/plain": [
              "[0.6763054728507996, 0.6499999761581421]"
            ]
          },
          "metadata": {},
          "execution_count": 74
        }
      ]
    },
    {
      "cell_type": "code",
      "source": [
        "predictions = Model.predict(x_test_scaled)\n",
        "predictions"
      ],
      "metadata": {
        "colab": {
          "base_uri": "https://localhost:8080/"
        },
        "id": "uHJhYzQPRKXi",
        "outputId": "6a31847b-df49-4d64-b164-4fe95cd1cae4"
      },
      "execution_count": null,
      "outputs": [
        {
          "output_type": "stream",
          "name": "stdout",
          "text": [
            "1/1 [==============================] - 0s 134ms/step\n"
          ]
        },
        {
          "output_type": "execute_result",
          "data": {
            "text/plain": [
              "array([[-0.6469325,  0.4913088],\n",
              "       [-0.6469325,  0.4913088],\n",
              "       [-0.6469325,  0.4913088],\n",
              "       [-0.6469325,  0.4913088],\n",
              "       [-0.6469325,  0.4913088],\n",
              "       [-0.6469325,  0.4913088],\n",
              "       [-0.6469325,  0.4913088],\n",
              "       [-0.6469325,  0.4913088],\n",
              "       [-0.6469325,  0.4913088],\n",
              "       [-0.6469325,  0.4913088],\n",
              "       [-0.6469325,  0.4913088],\n",
              "       [-0.6469325,  0.4913088],\n",
              "       [-0.6469325,  0.4913088],\n",
              "       [-0.6469325,  0.4913088],\n",
              "       [-0.6469325,  0.4913088],\n",
              "       [-0.6469325,  0.4913088],\n",
              "       [-0.6469325,  0.4913088],\n",
              "       [-0.6469325,  0.4913088],\n",
              "       [-0.6469326,  0.4913088],\n",
              "       [-0.6469326,  0.4913088]], dtype=float32)"
            ]
          },
          "metadata": {},
          "execution_count": 75
        }
      ]
    },
    {
      "cell_type": "code",
      "source": [
        "score = tf.nn.softmax(predictions[0])\n",
        "score"
      ],
      "metadata": {
        "colab": {
          "base_uri": "https://localhost:8080/"
        },
        "id": "SZVqLwvqRifl",
        "outputId": "ed271c04-20fe-4ebd-a5a5-f28af8e0eda1"
      },
      "execution_count": null,
      "outputs": [
        {
          "output_type": "execute_result",
          "data": {
            "text/plain": [
              "<tf.Tensor: shape=(2,), dtype=float32, numpy=array([0.24264342, 0.7573566 ], dtype=float32)>"
            ]
          },
          "metadata": {},
          "execution_count": 76
        }
      ]
    },
    {
      "cell_type": "code",
      "source": [
        "np.argmax(score)"
      ],
      "metadata": {
        "colab": {
          "base_uri": "https://localhost:8080/"
        },
        "id": "hb0hNZR3R3cA",
        "outputId": "499f5a83-62e9-468b-9df6-8b72b6eb0976"
      },
      "execution_count": null,
      "outputs": [
        {
          "output_type": "execute_result",
          "data": {
            "text/plain": [
              "1"
            ]
          },
          "metadata": {},
          "execution_count": 77
        }
      ]
    },
    {
      "cell_type": "code",
      "source": [
        "y_test[0]"
      ],
      "metadata": {
        "colab": {
          "base_uri": "https://localhost:8080/"
        },
        "id": "1iNAmnOiSJ6L",
        "outputId": "f9db1232-b30b-4586-e2eb-a568c65dd7f2"
      },
      "execution_count": null,
      "outputs": [
        {
          "output_type": "execute_result",
          "data": {
            "text/plain": [
              "0"
            ]
          },
          "metadata": {},
          "execution_count": 78
        }
      ]
    },
    {
      "cell_type": "code",
      "source": [
        "data_augmentation = keras.Sequential ([\n",
        "    layers.experimental.preprocessing.RandomFlip('horizontal'),\n",
        "    layers.experimental.preprocessing.RandomRotation(0.5),\n",
        "])"
      ],
      "metadata": {
        "id": "Qxr5W_HYSe0s"
      },
      "execution_count": null,
      "outputs": []
    },
    {
      "cell_type": "code",
      "source": [
        "plt.axis('off')\n",
        "plt.imshow(x[0])"
      ],
      "metadata": {
        "colab": {
          "base_uri": "https://localhost:8080/",
          "height": 423
        },
        "id": "HNVh9NMPTJVG",
        "outputId": "5a5d2149-9bf4-4d7a-870b-f0c514705c60"
      },
      "execution_count": null,
      "outputs": [
        {
          "output_type": "execute_result",
          "data": {
            "text/plain": [
              "<matplotlib.image.AxesImage at 0x7cf25f2ee8f0>"
            ]
          },
          "metadata": {},
          "execution_count": 80
        },
        {
          "output_type": "display_data",
          "data": {
            "text/plain": [
              "<Figure size 640x480 with 1 Axes>"
            ],
            "image/png": "[encoded data removed]"
          },
          "metadata": {}
        }
      ]
    },
    {
      "cell_type": "code",
      "source": [
        "plt.axis('off')\n",
        "plt.imshow(data_augmentation(x)[0].numpy().astype('uint8'))"
      ],
      "metadata": {
        "colab": {
          "base_uri": "https://localhost:8080/",
          "height": 423
        },
        "id": "n1-oG3nAsi1w",
        "outputId": "8586933d-ce70-46a6-c254-ed4191db1dde"
      },
      "execution_count": null,
      "outputs": [
        {
          "output_type": "execute_result",
          "data": {
            "text/plain": [
              "<matplotlib.image.AxesImage at 0x7cf25f7e1fc0>"
            ]
          },
          "metadata": {},
          "execution_count": 81
        },
        {
          "output_type": "display_data",
          "data": {
            "text/plain": [
              "<Figure size 640x480 with 1 Axes>"
            ],
            "image/png": "[encoded data removed]"
          },
          "metadata": {}
        }
      ]
    },
    {
      "cell_type": "code",
      "source": [
        "import tensorflow as tf\n",
        "from tensorflow.keras import layers, Sequential\n",
        "num_classes = 2\n",
        "\n",
        "# Define data augmentation outside the model\n",
        "data_augmentation = Sequential([\n",
        "    layers.experimental.preprocessing.RandomFlip('horizontal'),\n",
        "    layers.experimental.preprocessing.RandomRotation(0.5),\n",
        "])\n",
        "\n",
        "Model = Sequential([\n",
        "    data_augmentation,\n",
        "    layers.Conv2D(16, 3, padding='same', activation='relu', input_shape = (2, 1, 1)),\n",
        "    layers.MaxPooling2D(pool_size=(1,1)),\n",
        "    layers.Conv2D(32, 3, padding='same', activation='relu'),\n",
        "    layers.MaxPooling2D(pool_size=(1,1)),\n",
        "    layers.Conv2D(64, 3, padding='same', activation='relu'),\n",
        "    layers.MaxPooling2D(pool_size=(1,1)),\n",
        "    layers.Dropout(0.2),\n",
        "    layers.Flatten(),\n",
        "    layers.Dense(128, activation='relu'),\n",
        "    layers.Dense(num_classes)\n",
        "])\n",
        "\n",
        "Model.compile(optimizer='adam',\n",
        "              loss=tf.keras.losses.SparseCategoricalCrossentropy(from_logits=True),\n",
        "              metrics=['accuracy'])\n",
        "\n",
        "# Reshape your data to include the channel dimension\n",
        "x_train_scaled = x_train_scaled.reshape((-1, 2, 1, 1)) # Assuming your images are 2x1\n",
        "\n",
        "x_train_augmented = data_augmentation(x_train_scaled)\n",
        "\n",
        "Model.fit( x_train_augmented, y_train, epochs=10)"
      ],
      "metadata": {
        "colab": {
          "base_uri": "https://localhost:8080/"
        },
        "id": "sudJGAajvQFu",
        "outputId": "e1e53e67-d3b9-4cf4-d161-0bef278bd42f"
      },
      "execution_count": null,
      "outputs": [
        {
          "output_type": "stream",
          "name": "stdout",
          "text": [
            "Epoch 1/10\n",
            "3/3 [==============================] - 2s 9ms/step - loss: 0.6929 - accuracy: 0.5375\n",
            "Epoch 2/10\n",
            "3/3 [==============================] - 0s 7ms/step - loss: 0.6861 - accuracy: 0.7125\n",
            "Epoch 3/10\n",
            "3/3 [==============================] - 0s 7ms/step - loss: 0.6788 - accuracy: 0.7125\n",
            "Epoch 4/10\n",
            "3/3 [==============================] - 0s 7ms/step - loss: 0.6717 - accuracy: 0.7125\n",
            "Epoch 5/10\n",
            "3/3 [==============================] - 0s 19ms/step - loss: 0.6647 - accuracy: 0.7125\n",
            "Epoch 6/10\n",
            "3/3 [==============================] - 0s 7ms/step - loss: 0.6522 - accuracy: 0.7125\n",
            "Epoch 7/10\n",
            "3/3 [==============================] - 0s 8ms/step - loss: 0.6399 - accuracy: 0.7125\n",
            "Epoch 8/10\n",
            "3/3 [==============================] - 0s 8ms/step - loss: 0.6218 - accuracy: 0.7125\n",
            "Epoch 9/10\n",
            "3/3 [==============================] - 0s 10ms/step - loss: 0.6131 - accuracy: 0.7125\n",
            "Epoch 10/10\n",
            "3/3 [==============================] - 0s 8ms/step - loss: 0.6022 - accuracy: 0.7125\n"
          ]
        },
        {
          "output_type": "execute_result",
          "data": {
            "text/plain": [
              "<keras.src.callbacks.History at 0x7cf25f1ca020>"
            ]
          },
          "metadata": {},
          "execution_count": 82
        }
      ]
    }
  ]
}